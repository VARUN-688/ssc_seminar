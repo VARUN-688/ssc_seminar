{
 "cells": [
  {
   "cell_type": "code",
   "execution_count": 1,
   "id": "70165a9a",
   "metadata": {},
   "outputs": [],
   "source": [
    "import pandas as pd"
   ]
  },
  {
   "cell_type": "code",
   "execution_count": 2,
   "id": "3dd8d044",
   "metadata": {},
   "outputs": [],
   "source": [
    "df=pd.read_csv(r'C:\\Users\\varun\\PycharmProjects\\ssc_presentation\\car_data2.csv')"
   ]
  },
  {
   "cell_type": "code",
   "execution_count": 3,
   "id": "7d567575",
   "metadata": {},
   "outputs": [
    {
     "data": {
      "text/plain": [
       "Unnamed: 0             int64\n",
       "symboling              int64\n",
       "normalized_losses      int64\n",
       "make                  object\n",
       "fuel_type             object\n",
       "aspiration            object\n",
       "num_of_doors          object\n",
       "body_style            object\n",
       "drive_wheels          object\n",
       "engine_location       object\n",
       "wheel_base           float64\n",
       "length               float64\n",
       "width                float64\n",
       "height               float64\n",
       "curb_weight            int64\n",
       "engine_type           object\n",
       "num-of_cylinders      object\n",
       "engine_size            int64\n",
       "fuel_system           object\n",
       "bore                 float64\n",
       "stroke               float64\n",
       "compression_ratio    float64\n",
       "horsepower             int64\n",
       "peak_rpm               int64\n",
       "city_mpg             float64\n",
       "highway_mpg            int64\n",
       "price                  int64\n",
       "price_binned          object\n",
       "dtype: object"
      ]
     },
     "execution_count": 3,
     "metadata": {},
     "output_type": "execute_result"
    }
   ],
   "source": [
    "df.dtypes"
   ]
  },
  {
   "cell_type": "code",
   "execution_count": 4,
   "id": "f3032930",
   "metadata": {
    "scrolled": true
   },
   "outputs": [
    {
     "data": {
      "text/plain": [
       "dtype('O')"
      ]
     },
     "execution_count": 4,
     "metadata": {},
     "output_type": "execute_result"
    }
   ],
   "source": [
    "df['fuel_type'].dtype"
   ]
  },
  {
   "cell_type": "code",
   "execution_count": 5,
   "id": "0022bec2",
   "metadata": {},
   "outputs": [
    {
     "data": {
      "text/plain": [
       "0      26.813344\n",
       "1      26.813344\n",
       "2      30.413344\n",
       "3      32.313344\n",
       "4      32.313344\n",
       "         ...    \n",
       "96     32.513344\n",
       "97     31.513344\n",
       "98     31.313344\n",
       "99     32.713344\n",
       "100    32.713344\n",
       "Name: height, Length: 101, dtype: float64"
      ]
     },
     "execution_count": 5,
     "metadata": {},
     "output_type": "execute_result"
    }
   ],
   "source": [
    "df.height"
   ]
  },
  {
   "cell_type": "code",
   "execution_count": 6,
   "id": "bb21fb26",
   "metadata": {},
   "outputs": [
    {
     "data": {
      "text/plain": [
       "5"
      ]
     },
     "execution_count": 6,
     "metadata": {},
     "output_type": "execute_result"
    }
   ],
   "source": [
    "df.height.isnull().sum()"
   ]
  },
  {
   "cell_type": "code",
   "execution_count": 7,
   "id": "a998d249",
   "metadata": {},
   "outputs": [
    {
     "data": {
      "text/plain": [
       "0     26.813344\n",
       "1     26.813344\n",
       "2     30.413344\n",
       "3     32.313344\n",
       "4     32.313344\n",
       "5     31.113344\n",
       "6     33.713344\n",
       "7     33.713344\n",
       "8     33.913344\n",
       "9     30.013344\n",
       "10    32.313344\n",
       "11    32.313344\n",
       "12          NaN\n",
       "13          NaN\n",
       "14          NaN\n",
       "15          NaN\n",
       "16          NaN\n",
       "17    34.313344\n",
       "18    31.213344\n",
       "19    30.013344\n",
       "20    30.013344\n",
       "Name: height, dtype: float64"
      ]
     },
     "execution_count": 7,
     "metadata": {},
     "output_type": "execute_result"
    }
   ],
   "source": [
    "df.loc[0:20,'height']"
   ]
  },
  {
   "cell_type": "code",
   "execution_count": 8,
   "id": "c3465ea5",
   "metadata": {},
   "outputs": [],
   "source": [
    "df2=df.loc[0:20,'height'].fillna(method='ffill')\n"
   ]
  },
  {
   "cell_type": "code",
   "execution_count": 10,
   "id": "0204b849",
   "metadata": {},
   "outputs": [
    {
     "data": {
      "text/plain": [
       "0     26.813344\n",
       "1     26.813344\n",
       "2     30.413344\n",
       "3     32.313344\n",
       "4     32.313344\n",
       "5     31.113344\n",
       "6     33.713344\n",
       "7     33.713344\n",
       "8     33.913344\n",
       "9     30.013344\n",
       "10    32.313344\n",
       "11    32.313344\n",
       "12    32.313344\n",
       "13    32.313344\n",
       "14    32.313344\n",
       "15    32.313344\n",
       "16    32.313344\n",
       "17    34.313344\n",
       "18    31.213344\n",
       "19    30.013344\n",
       "20    30.013344\n",
       "Name: height, dtype: float64"
      ]
     },
     "execution_count": 10,
     "metadata": {},
     "output_type": "execute_result"
    }
   ],
   "source": [
    "df2\n"
   ]
  }
 ],
 "metadata": {
  "kernelspec": {
   "display_name": "Python 3 (ipykernel)",
   "language": "python",
   "name": "python3"
  },
  "language_info": {
   "codemirror_mode": {
    "name": "ipython",
    "version": 3
   },
   "file_extension": ".py",
   "mimetype": "text/x-python",
   "name": "python",
   "nbconvert_exporter": "python",
   "pygments_lexer": "ipython3",
   "version": "3.10.9"
  }
 },
 "nbformat": 4,
 "nbformat_minor": 5
}
